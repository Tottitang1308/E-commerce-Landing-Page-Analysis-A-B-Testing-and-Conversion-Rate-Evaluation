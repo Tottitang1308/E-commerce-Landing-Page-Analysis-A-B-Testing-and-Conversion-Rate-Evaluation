{
 "cells": [
  {
   "cell_type": "markdown",
   "metadata": {},
   "source": [
    "# E-commerce Landing Page Analysis: A/B Testing and Conversion Rate Evaluation\n",
    "\n",
    "## Description:\n",
    "In this project, I conducted an A/B test to evaluate the effectiveness of a new landing page for an e-commerce company compared to the existing one. Using Python and statistical methods, I analyzed user interaction data to determine if the new design led to a higher conversion rate. The findings provide actionable insights for optimizing online user experiences.\n",
    "\n",
    "## Analysis Summary\n",
    "- The e-commerce company tested a new landing page (treatment group) against the existing landing page (control group) to see if it improves conversion rates.\n",
    "- The conversion rates were 12.04% for the control group and 11.88% for the treatment group.\n",
    "- A two-proportion z-test was performed, resulting in a p-value of 0.1897, indicating no statistically significant difference between the conversion rates of the two groups.\n",
    "- The company should consider other factors or make further adjustments before deciding to implement the new landing page."
   ]
  },
  {
   "cell_type": "code",
   "execution_count": 1,
   "metadata": {},
   "outputs": [
    {
     "name": "stdout",
     "output_type": "stream",
     "text": [
      "Dataset Head:\n",
      "   user_id                   timestamp      group landing_page  converted\n",
      "0   851104  2017-01-21 22:11:48.556739    control     old_page          0\n",
      "1   804228  2017-01-12 08:01:45.159739    control     old_page          0\n",
      "2   661590  2017-01-11 16:55:06.154213  treatment     new_page          0\n",
      "3   853541  2017-01-08 18:28:03.143765  treatment     new_page          0\n",
      "4   864975  2017-01-21 01:52:26.210827    control     old_page          1\n"
     ]
    }
   ],
   "source": [
    "import pandas as pd\n",
    "import numpy as np\n",
    "import matplotlib.pyplot as plt\n",
    "import seaborn as sns\n",
    "from statsmodels.stats.proportion import proportions_ztest\n",
    "\n",
    "# Load the dataset\n",
    "file_path = 'ab_data.csv'\n",
    "data = pd.read_csv(file_path)\n",
    "\n",
    "# Display the first few rows of the dataset\n",
    "print(\"Dataset Head:\")\n",
    "print(data.head())"
   ]
  },
  {
   "cell_type": "markdown",
   "metadata": {},
   "source": [
    "### Dataset Overview\n",
    "The dataset contains 294,478 entries with the following columns:\n",
    "\n",
    "user_id: Unique identifier for each user.\n",
    "timestamp: Time of the interaction.\n",
    "group: Indicates whether the user is in the control group or treatment group.\n",
    "landing_page: Indicates which landing page the user saw ('old_page' or 'new_page').\n",
    "converted: Indicates whether the user completed the desired action (1 for yes, 0 for no).\n",
    "\n",
    "## Business Case and Hypothesis\n",
    "### Business Case\n",
    "An e-commerce company is testing a new version of their landing page to see if it improves the conversion rate compared to the old version. The goal is to determine whether the new landing page leads to a higher proportion of users completing a purchase or signing up for a service.\n",
    "\n",
    "### Hypothesis\n",
    "- Null Hypothesis (H0): The new landing page does not lead to a higher conversion rate than the old landing page.\n",
    "- Alternative Hypothesis (H1): The new landing page leads to a higher conversion rate than the old landing page.\n",
    "\n",
    "#### Steps for Analysis\n",
    "1. Data Cleaning: Ensure there are no mismatches in the group and landing_page columns.\n",
    "2. Basic Statistics: Calculate the conversion rates for both the control and treatment groups.\n",
    "3. Hypothesis Testing: Perform a statistical test (e.g., Chi-Square test or a two-proportion z-test) to determine if the difference in conversion rates is statistically significant.\n",
    "4. Interpret Results: Interpret the results and make a recommendation based on the findings."
   ]
  },
  {
   "cell_type": "code",
   "execution_count": 4,
   "metadata": {},
   "outputs": [
    {
     "name": "stdout",
     "output_type": "stream",
     "text": [
      "Number of mismatched rows: 3893\n",
      "\n",
      "Conversion Rates:\n",
      "group\n",
      "control      0.120386\n",
      "treatment    0.118807\n",
      "Name: converted, dtype: float64\n"
     ]
    }
   ],
   "source": [
    "# Data Cleaning\n",
    "# Check for mismatches in group and landing_page columns\n",
    "mismatches = data[(data['group'] == 'control') & (data['landing_page'] != 'old_page') |\n",
    "                  (data['group'] == 'treatment') & (data['landing_page'] != 'new_page')]\n",
    "print(f\"Number of mismatched rows: {mismatches.shape[0]}\")\n",
    "\n",
    "# Remove mismatches\n",
    "data_cleaned = data.drop(mismatches.index)\n",
    "\n",
    "# Calculate conversion rates\n",
    "conversion_rates = data_cleaned.groupby('group')['converted'].mean()\n",
    "print(\"\\nConversion Rates:\")\n",
    "print(conversion_rates)"
   ]
  },
  {
   "cell_type": "markdown",
   "metadata": {},
   "source": [
    "#### Data Cleaning and Basic Statistics Results\n",
    "Number of mismatched rows: 3,893 rows were found with mismatches between the group and landing_page columns and were removed.\n",
    "\n",
    "#### Conversion Rates:\n",
    "Control Group: 12.04%\n",
    "Treatment Group: 11.88%\n",
    "\n",
    "This indicates that the control group (users who saw the old landing page) had a slightly higher conversion rate compared to the treatment group (users who saw the new landing page)."
   ]
  },
  {
   "cell_type": "markdown",
   "metadata": {},
   "source": [
    "### Two-Proportion Z-Test\n",
    "To determine if the difference in conversion rates between the control and treatment groups is statistically significant, a two-proportion z-test was performed. The results are:"
   ]
  },
  {
   "cell_type": "code",
   "execution_count": 5,
   "metadata": {},
   "outputs": [
    {
     "name": "stdout",
     "output_type": "stream",
     "text": [
      "\n",
      "Z-Statistic: 1.3116075339133115\n",
      "P-Value: 0.18965258971881804\n"
     ]
    }
   ],
   "source": [
    "# Calculate the number of conversions and sample sizes for each group\n",
    "conversions_control = data_cleaned[data_cleaned['group'] == 'control']['converted'].sum()\n",
    "conversions_treatment = data_cleaned[data_cleaned['group'] == 'treatment']['converted'].sum()\n",
    "n_control = data_cleaned[data_cleaned['group'] == 'control'].shape[0]\n",
    "n_treatment = data_cleaned[data_cleaned['group'] == 'treatment'].shape[0]\n",
    "\n",
    "# Perform the two-proportion z-test\n",
    "count = np.array([conversions_control, conversions_treatment])\n",
    "nobs = np.array([n_control, n_treatment])\n",
    "stat, pval = proportions_ztest(count, nobs)\n",
    "\n",
    "print(f\"\\nZ-Statistic: {stat}\")\n",
    "print(f\"P-Value: {pval}\")"
   ]
  },
  {
   "cell_type": "markdown",
   "metadata": {},
   "source": [
    "#### Results:\n",
    "- Z-Statistic: 1.31\n",
    "- P-Value: 0.1897\n",
    "\n",
    "#### Interpretation\n",
    "- P-Value: The p-value of 0.1897 is greater than the common significance level of 0.05. This means we fail to reject the null hypothesis. In other words, there is not enough evidence to conclude that the new landing page leads to a higher conversion rate than the old landing page.\n",
    "\n",
    "Given these results, the company should consider other factors or make further adjustments to the new landing page before deciding to implement it. The difference in conversion rates observed in this test is not statistically significant, suggesting that the new landing page did not perform better than the old one."
   ]
  },
  {
   "cell_type": "markdown",
   "metadata": {},
   "source": [
    "### Conversion Rates by Group\n",
    "The bar plot below visualizes the conversion rates for the control and treatment groups:"
   ]
  },
  {
   "cell_type": "code",
   "execution_count": 7,
   "metadata": {},
   "outputs": [
    {
     "data": {
      "image/png": "[encoded data removed]",
      "text/plain": [
       "<Figure size 720x360 with 1 Axes>"
      ]
     },
     "metadata": {
      "needs_background": "light"
     },
     "output_type": "display_data"
    }
   ],
   "source": [
    "# Visualization\n",
    "plt.figure(figsize=(10, 5))\n",
    "\n",
    "# Bar plot for conversion rates\n",
    "sns.barplot(x=conversion_rates.index, y=conversion_rates.values, palette='viridis')\n",
    "plt.title('Conversion Rates by Group')\n",
    "plt.xlabel('Group')\n",
    "plt.ylabel('Conversion Rate')\n",
    "plt.ylim(0, 0.15)\n",
    "plt.show()"
   ]
  },
  {
   "cell_type": "markdown",
   "metadata": {},
   "source": [
    "The control group has a slightly higher conversion rate compared to the treatment group, but the difference is small.\n",
    "\n",
    "\n",
    "\n",
    "### Conversion Distribution by Group\n",
    "The count plot below shows the distribution of converted values (0 for no conversion, 1 for conversion) by group:"
   ]
  },
  {
   "cell_type": "code",
   "execution_count": 8,
   "metadata": {},
   "outputs": [
    {
     "data": {
      "image/png": "[encoded data removed]",
      "text/plain": [
       "<Figure size 720x360 with 1 Axes>"
      ]
     },
     "metadata": {
      "needs_background": "light"
     },
     "output_type": "display_data"
    }
   ],
   "source": [
    "# Distribution of converted values\n",
    "plt.figure(figsize=(10, 5))\n",
    "sns.countplot(x='converted', hue='group', data=data_cleaned, palette='viridis')\n",
    "plt.title('Conversion Distribution by Group')\n",
    "plt.xlabel('Converted')\n",
    "plt.ylabel('Count')\n",
    "plt.show()"
   ]
  },
  {
   "cell_type": "markdown",
   "metadata": {},
   "source": [
    "Both groups have a similar distribution of converted values, with a majority of users not converting.\n",
    "\n",
    "## Session Duration by Group Interpretation\n",
    "The box plot below visualizes the session duration distribution by group:"
   ]
  },
  {
   "cell_type": "code",
   "execution_count": 10,
   "metadata": {},
   "outputs": [
    {
     "data": {
      "image/png": "[encoded data removed]",
      "text/plain": [
       "<Figure size 720x360 with 1 Axes>"
      ]
     },
     "metadata": {
      "needs_background": "light"
     },
     "output_type": "display_data"
    }
   ],
   "source": [
    "# Session duration statistics by group\n",
    "# Violin Plot\n",
    "plt.figure(figsize=(10, 5))\n",
    "sns.violinplot(x='group', y='converted', data=data_cleaned, palette='viridis')\n",
    "plt.title('Violin Plot of Session Duration by Group')\n",
    "plt.xlabel('Group')\n",
    "plt.ylabel('Converted')\n",
    "plt.show()"
   ]
  },
  {
   "cell_type": "markdown",
   "metadata": {},
   "source": [
    "- Similar Distributions: Both the control and treatment groups have very similar distributions of session durations, suggesting that the new landing page did not significantly alter how long users stayed on the page compared to the old landing page.\n",
    "- Bimodal Distribution: The presence of two peaks in both distributions indicates that there are two common session duration lengths among users, with a majority spending shorter amounts of time and a smaller portion spending longer durations.\n",
    "- No Significant Change: Given the similarity in the shape, median, and spread of the distributions, it can be inferred that the new landing page does not significantly affect user engagement in terms of session duration.\n"
   ]
  }
 ],
 "metadata": {
  "kernelspec": {
   "display_name": "Python 3",
   "language": "python",
   "name": "python3"
  },
  "language_info": {
   "codemirror_mode": {
    "name": "ipython",
    "version": 3
   },
   "file_extension": ".py",
   "mimetype": "text/x-python",
   "name": "python",
   "nbconvert_exporter": "python",
   "pygments_lexer": "ipython3",
   "version": "3.7.6"
  }
 },
 "nbformat": 4,
 "nbformat_minor": 4
}
